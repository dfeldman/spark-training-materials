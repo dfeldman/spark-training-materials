{
 "cells": [
  {
   "cell_type": "markdown",
   "metadata": {},
   "source": [
    "# Graph Processing (advanced)\n",
    "\n",
    "Spark's \"native language\" is Scala, not Python, and some of the advanced libraries are only available from Scala.\n",
    "One of the more interesting ones is GraphX, a library for doing graph algorithms. \n",
    "This is an example using the GraphX library to find the shortest path between two airports using a database of airports and routes between them. "
   ]
  },
  {
   "cell_type": "code",
   "execution_count": 23,
   "metadata": {},
   "outputs": [
    {
     "data": {
      "text/plain": [
       "Some(2)"
      ]
     },
     "execution_count": 23,
     "metadata": {},
     "output_type": "execute_result"
    }
   ],
   "source": [
    "import org.apache.spark._\n",
    "import org.apache.spark.graphx._\n",
    "import org.apache.spark.graphx.lib\n",
    "import org.apache.spark.rdd.RDD\n",
    "\n",
    "\n",
    "val edges: RDD[Edge[Double]] = sc.textFile(\"data/airline-edges.tsv\").map(_.split(\"\\t\")).map(a=>Edge(a(0).toLong,a(1).toLong,1.0))\n",
    "val vertices: RDD[(VertexId, String)] = sc.textFile(\"data/vertices.tsv\").map(_.split(\"\\t\")).map(a=>(a(0).toLong,a(1)))\n",
    "val airlinesGraph = Graph(vertices,edges)\n",
    "val ranked = airlinesGraph.pageRank(0.01)\n",
    "val rankedWithNames = ranked.vertices.join(vertices).top(10)(Ordering.by(_._2))\n",
    "val sourceId: VertexId = 0 // The ultimate source\n",
    "\n",
    "import org.apache.spark.graphx.lib.ShortestPaths\n",
    "\n",
    "val v1=3382 // Minneapolis (MSP)\n",
    "val v2=385  // Moscow (DME)\n",
    "val result = ShortestPaths.run(airlinesGraph, Seq(v2))\n",
    "\n",
    "val shortestPath = result.vertices.filter({case(vId, _) => vId == v1}).first._2.get(v2)\n",
    "shortestPath"
   ]
  },
  {
   "cell_type": "code",
   "execution_count": null,
   "metadata": {
    "collapsed": true
   },
   "outputs": [],
   "source": []
  }
 ],
 "metadata": {
  "kernelspec": {
   "display_name": "Apache Toree - Scala",
   "language": "scala",
   "name": "apache_toree_scala"
  },
  "language_info": {
   "file_extension": ".scala",
   "name": "scala",
   "version": "2.11.8"
  }
 },
 "nbformat": 4,
 "nbformat_minor": 2
}
